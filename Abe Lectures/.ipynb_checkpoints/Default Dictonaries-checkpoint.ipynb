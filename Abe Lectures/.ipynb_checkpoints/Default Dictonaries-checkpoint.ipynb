{
 "cells": [
  {
   "cell_type": "code",
   "execution_count": null,
   "metadata": {
    "collapsed": true
   },
   "outputs": [],
   "source": [
    "class DefaultDIct(dict):  # we inherited from dict, dict defines the __getitem__ method\n",
    "    def __init__(self, default:)\n",
    "        self._default = default\n",
    "    def __getitem__(self, key):\n",
    "        if key not in self:\n",
    "            self[key] = self._default()  # enter in default value of that key\n",
    "        return super().__getitem__(key)  # return what happens when we use the normal dictionary's __getitem__ function"
   ]
  }
 ],
 "metadata": {
  "kernelspec": {
   "display_name": "Python 3",
   "language": "python",
   "name": "python3"
  },
  "language_info": {
   "codemirror_mode": {
    "name": "ipython",
    "version": 3
   },
   "file_extension": ".py",
   "mimetype": "text/x-python",
   "name": "python",
   "nbconvert_exporter": "python",
   "pygments_lexer": "ipython3",
   "version": "3.4.3"
  }
 },
 "nbformat": 4,
 "nbformat_minor": 0
}
